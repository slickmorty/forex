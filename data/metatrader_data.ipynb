{
 "cells": [
  {
   "cell_type": "code",
   "execution_count": null,
   "metadata": {},
   "outputs": [],
   "source": [
    "import datetime as dt\n",
    "import matplotlib.pyplot as plt\n",
    "import pandas as pd\n",
    "from pandas.plotting import register_matplotlib_converters\n",
    "register_matplotlib_converters()\n",
    "import MetaTrader5 as mt5\n",
    " \n",
    "\n",
    "\n",
    "# datetime.now()\n",
    "# # request 1000 ticks from EURAUD\n",
    "# euraud_ticks = mt5.copy_ticks_from(\"SP500m\", datetime(2022,1,28,13), 1000, mt5.COPY_TICKS_ALL)\n",
    "\n",
    "# euraud_ticks\n",
    "# request ticks from AUDUSD within 2019.04.01 13:00 - 2019.04.02 13:00\n",
    "# audusd_ticks = mt5.copy_ticks_range(\"AUDUSD\", datetime(2022,1,27,13), datetime(2022,1,28,13), mt5.COPY_TICKS_ALL)\n",
    " \n",
    "# # get bars from different symbols in a number of ways\n",
    "# eurusd_rates = mt5.copy_rates_from(\"EURUSD\", mt5.TIMEFRAME_M1, datetime(2022,1,28,13), 1000)\n",
    "# eurgbp_rates = mt5.copy_rates_from_pos(\"EURGBP\", mt5.TIMEFRAME_M1, 0, 1000)\n",
    "# eurcad_rates = mt5.copy_rates_range(\"EURCAD\", mt5.TIMEFRAME_M1, datetime(2022,1,27,13), datetime(2022,1,28,13))\n",
    " \n",
    "# shut down connection to MetaTrader 5\n",
    " \n",
    "#DATA\n",
    "# print('euraud_ticks(', len(euraud_ticks), ')')\n",
    "# for val in euraud_ticks[:10]: print(val)\n",
    " \n",
    "# print('audusd_ticks(', len(audusd_ticks), ')')\n",
    "# for val in audusd_ticks[:10]: print(val)\n",
    " \n",
    "# print('eurusd_rates(', len(eurusd_rates), ')')\n",
    "# for val in eurusd_rates[:10]: print(val)\n",
    " \n",
    "# print('eurgbp_rates(', len(eurgbp_rates), ')')\n",
    "# for val in eurgbp_rates[:10]: print(val)\n",
    " \n",
    "# print('eurcad_rates(', len(eurcad_rates), ')')\n",
    "# for val in eurcad_rates[:10]: print(val)\n",
    " \n",
    "# #PLOT\n",
    "# # create DataFrame out of the obtained data\n",
    "# ticks_frame = pd.DataFrame(euraud_ticks)\n",
    "# # convert time in seconds into the datetime format\n",
    "# ticks_frame['time']=pd.to_datetime(ticks_frame['time'], unit='s')\n",
    "# # display ticks on the chart\n",
    "# plt.plot(ticks_frame['time'], ticks_frame['ask'], 'r-', label='ask')\n",
    "# plt.plot(ticks_frame['time'], ticks_frame['bid'], 'b-', label='bid')\n",
    " \n",
    "# # display the legends\n",
    "# plt.legend(loc='upper left')\n",
    " \n",
    "# # add the header\n",
    "# plt.title('EURAUD ticks')\n",
    " \n",
    "# # display the chart\n",
    "# plt"
   ]
  },
  {
   "cell_type": "code",
   "execution_count": null,
   "metadata": {},
   "outputs": [],
   "source": [
    "import pytz\n",
    "\n",
    "nownejebad = dt.datetime.now(pytz.UTC)\n",
    "nownejebad"
   ]
  },
  {
   "cell_type": "code",
   "execution_count": null,
   "metadata": {},
   "outputs": [],
   "source": [
    "if not mt5.initialize():\n",
    "    print(\"initialize() failed\")\n",
    "    mt5.shutdown()\n",
    "    \n",
    "mt5.symbols_total\n",
    "\n",
    "data = mt5.copy_rates_from('SP500m',mt5.TIMEFRAME_M5,nownejebad,100)\n",
    "mt5.last_error()"
   ]
  },
  {
   "cell_type": "code",
   "execution_count": null,
   "metadata": {},
   "outputs": [],
   "source": [
    "mt5.symbols_get()\n"
   ]
  },
  {
   "cell_type": "code",
   "execution_count": null,
   "metadata": {},
   "outputs": [],
   "source": [
    "data = pd.DataFrame(data)\n",
    "data"
   ]
  },
  {
   "cell_type": "code",
   "execution_count": null,
   "metadata": {},
   "outputs": [],
   "source": [
    "time = data.pop('time')\n",
    "time"
   ]
  },
  {
   "cell_type": "code",
   "execution_count": null,
   "metadata": {},
   "outputs": [],
   "source": [
    "date_time = []\n",
    "for i in time:\n",
    "    date_time.append(dt.datetime.fromtimestamp(i))\n",
    "\n",
    "data['time']=date_time\n",
    "data.to_csv('test.csv')\n"
   ]
  },
  {
   "cell_type": "code",
   "execution_count": null,
   "metadata": {},
   "outputs": [],
   "source": [
    "data"
   ]
  }
 ],
 "metadata": {
  "interpreter": {
   "hash": "6846f63a3bd10fded7556113359c047c7510e004a07da63a9b4cb79970ae779e"
  },
  "kernelspec": {
   "display_name": "Python 3.9.7 ('fpp')",
   "language": "python",
   "name": "python3"
  },
  "language_info": {
   "codemirror_mode": {
    "name": "ipython",
    "version": 3
   },
   "file_extension": ".py",
   "mimetype": "text/x-python",
   "name": "python",
   "nbconvert_exporter": "python",
   "pygments_lexer": "ipython3",
   "version": "3.9.7"
  },
  "orig_nbformat": 4
 },
 "nbformat": 4,
 "nbformat_minor": 2
}
