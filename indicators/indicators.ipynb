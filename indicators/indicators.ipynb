{
 "cells": [
  {
   "cell_type": "code",
   "execution_count": null,
   "metadata": {},
   "outputs": [],
   "source": [
    "import datetime\n",
    "import pandas as pd\n",
    "# import pandas_ta as pata\n",
    "import numpy as np\n",
    "import ta \n",
    "import matplotlib as mpl\n",
    "import tensorflow as tf\n",
    "\n",
    "import matplotlib.pyplot as plt\n"
   ]
  },
  {
   "cell_type": "code",
   "execution_count": null,
   "metadata": {},
   "outputs": [],
   "source": [
    "df = pd.read_csv('../data/meta_sp500.csv')\n",
    "\n",
    "date = df.pop('Date')\n",
    "time = df.pop('Time')\n",
    "df['Date_Time']=date+time\n",
    "\n",
    "date_time = pd.to_datetime(df.pop('Date_Time'),\n",
    "                           format='%Y.%m.%d %H:%M:%S')\n",
    "\n",
    "df.head()"
   ]
  },
  {
   "cell_type": "code",
   "execution_count": null,
   "metadata": {},
   "outputs": [],
   "source": [
    "\n",
    "window_size = 256"
   ]
  },
  {
   "cell_type": "code",
   "execution_count": null,
   "metadata": {},
   "outputs": [],
   "source": [
    "def plot(name):\n",
    "    mean = df.mean()\n",
    "    std = df.std()\n",
    "    df_std =(df-mean)/std\n",
    "\n",
    "    real = df[name]\n",
    "    real.index = date_time\n",
    "\n",
    "    std_real = df_std[name]\n",
    "    std_real.index = date_time\n",
    "\n",
    "    fig, axs = plt.subplots(2)\n",
    "    axs[0].plot(real)\n",
    "    axs[1].plot(std_real)"
   ]
  },
  {
   "cell_type": "code",
   "execution_count": null,
   "metadata": {},
   "outputs": [],
   "source": [
    "# SMA -> Simple moving average\n",
    "\n",
    "# df['SMA_10'] = df['Close'].rolling(window=10).mean()\n",
    "# df['SMA_20'] = df['Close'].rolling(window=20).mean()\n",
    "# df['SMA_50'] = df['Close'].rolling(window=50).mean()\n",
    "# df['SMA_100'] = df['Close'].rolling(window=100).mean()\n",
    "# df['SMA_200'] = df['Close'].rolling(window=200).mean()\n",
    "# df[f'SMA_{window_size}'] = df['Close'].rolling(window=window_size).mean()\n",
    "\n",
    "\n",
    "# plot('SMA_10')\n"
   ]
  },
  {
   "cell_type": "code",
   "execution_count": null,
   "metadata": {},
   "outputs": [],
   "source": [
    "# df['EMA'] = df['Close'].ewm(span= window_size , adjust=False).mean()\n",
    "\n",
    "# df\n",
    "# ema_10=ta.trend.EMAIndicator(df['Close'],window=10)\n",
    "# ema_20=ta.trend.EMAIndicator(df['Close'],window=20)\n",
    "# ema_50=ta.trend.EMAIndicator(df['Close'],window=50)\n",
    "# ema_100=ta.trend.EMAIndicator(df['Close'],window=100)\n",
    "# ema_200=ta.trend.EMAIndicator(df['Close'],window=200)\n",
    "# ema_windowsize=ta.trend.EMAIndicator(df['Close'],window=window_size)\n",
    "\n",
    "# df['EMA_10']=ema_10.ema_indicator()\n",
    "# df['EMA_20']=ema_10.ema_indicator()\n",
    "# df['EMA_50']=ema_10.ema_indicator()\n",
    "# df['EMA_100']=ema_10.ema_indicator()\n",
    "# df['EMA_200']=ema_10.ema_indicator()\n",
    "# df[f'EMA_{window_size}']=ema_10.ema_indicator()\n",
    "\n",
    "# name = 'EMA_100'\n",
    "# plot(name)\n",
    "\n"
   ]
  },
  {
   "cell_type": "code",
   "execution_count": null,
   "metadata": {},
   "outputs": [],
   "source": [
    "#MACD\n",
    "\n",
    "macd=ta.trend.MACD(df['Close'])\n",
    "df['MACD']=macd.macd()\n",
    "df['MACD_Signal']=macd.macd_signal()\n",
    "df['MACD_Diff']=macd.macd_diff()\n",
    "\n",
    "plot('MACD')\n"
   ]
  },
  {
   "cell_type": "code",
   "execution_count": null,
   "metadata": {},
   "outputs": [],
   "source": [
    "#RSI\n",
    "\n",
    "rsi = ta.momentum.RSIIndicator(df['Close'])\n",
    "df['RSI']= rsi.rsi()\n",
    "\n",
    "plot('RSI')\n"
   ]
  },
  {
   "cell_type": "code",
   "execution_count": null,
   "metadata": {},
   "outputs": [],
   "source": [
    "#CCI\n",
    "\n",
    "CCI = ta.trend.CCIIndicator(high=df['High'],low=df['Low'],close=df['Close'])\n",
    "df['CCI']=CCI.cci()\n",
    "\n",
    "plot('CCI')"
   ]
  },
  {
   "cell_type": "code",
   "execution_count": null,
   "metadata": {},
   "outputs": [],
   "source": [
    "Stochastic= ta.momentum.StochasticOscillator(close=df['Close'],high=df['High'],low=df['Low'])\n",
    "df['STOCH']=Stochastic.stoch()\n",
    "df['STOCH_SIGNAL']=Stochastic.stoch_signal()\n",
    "\n",
    "\n",
    "\n",
    "plot('STOCH_SIGNAL')"
   ]
  },
  {
   "cell_type": "code",
   "execution_count": null,
   "metadata": {},
   "outputs": [],
   "source": [
    "#Bollinger Bands\n",
    "\n",
    "Bollinger = ta.volatility.BollingerBands(close=df['Close'])\n",
    "# df['MA20'] = df['Close'].rolling(window=20).mean()\n",
    "# df['20dSTD'] = df['Close'].rolling(window=20).std() \n",
    "\n",
    "# df['Upper'] = df['MA20'] + (df['20dSTD'] * 2)\n",
    "# df['Lower'] = df['MA20'] - (df['20dSTD'] * 2)\n",
    "# df.tail()\n",
    "\n",
    "# df['Boll_High']=Bollinger.bollinger_hband()\n",
    "# df['Boll_Low']=Bollinger.bollinger_lband()\n",
    "# df['Boll_AVG']=Bollinger.bollinger_mavg()\n",
    "df['Boll_Percent']=Bollinger.bollinger_pband()\n",
    "\n",
    "plot('Boll_Percent')\n"
   ]
  },
  {
   "cell_type": "code",
   "execution_count": null,
   "metadata": {},
   "outputs": [],
   "source": [
    "# ATR = ta.volatility.AverageTrueRange(close=df['Close'],high=df['High'],low=df['Low'])\n",
    "# df['ATR']=ATR.average_true_range()\n",
    "\n",
    "# plot('ATR')"
   ]
  },
  {
   "cell_type": "code",
   "execution_count": null,
   "metadata": {},
   "outputs": [],
   "source": [
    "\n",
    "#Williams %R\n",
    "\n",
    "WilliamsRIndicator=ta.momentum.WilliamsRIndicator(close=df['Close'],high=df['High'],low=df['Low'])\n",
    "df['WILL_R']=WilliamsRIndicator.williams_r()\n",
    "\n",
    "plot('WILL_R')"
   ]
  },
  {
   "cell_type": "code",
   "execution_count": null,
   "metadata": {},
   "outputs": [],
   "source": [
    "\n",
    "# OBV= ta.volume.OnBalanceVolumeIndicator(close=df['Close'],volume=df['Volume'])\n",
    "# df['OBV']=OBV.on_balance_volume()\n",
    "\n",
    "# plot('OBV')\n"
   ]
  },
  {
   "cell_type": "code",
   "execution_count": null,
   "metadata": {},
   "outputs": [],
   "source": [
    "dcc= ta.volatility.DonchianChannel(high=df['High'],low=df['Low'],close=df['Close'])\n",
    "# df['DON_CHIAN_hband']=dcc.donchian_channel_hband()\n",
    "# df['DON_CHIAN_lband']=dcc.donchian_channel_lband()\n",
    "# df['DON_CHIAN_mband']=dcc.donchian_channel_mband()\n",
    "df['DON_CHIAN_pband']=dcc.donchian_channel_pband()\n",
    "\n",
    "plot('DON_CHIAN_pband')"
   ]
  },
  {
   "cell_type": "code",
   "execution_count": null,
   "metadata": {},
   "outputs": [],
   "source": [
    "# vwap = ta.volume.VolumeWeightedAveragePrice(high=df['High'],low=df['Low'],close=df['Close'],volume=df['Volume'])\n",
    "# df['VWAP']=vwap.volume_weighted_average_price()\n",
    "\n",
    "# plot('VWAP')"
   ]
  },
  {
   "cell_type": "code",
   "execution_count": null,
   "metadata": {},
   "outputs": [],
   "source": [
    "ADX=ta.trend.ADXIndicator(high=df['High'],low=df['Low'],close=df['Close'])\n",
    "df['ADX_Pos']=ADX.adx_pos()\n",
    "df['ADX_Neg']=ADX.adx_neg()\n",
    "\n",
    "plot('ADX_Neg')"
   ]
  },
  {
   "cell_type": "code",
   "execution_count": null,
   "metadata": {},
   "outputs": [],
   "source": [
    "Aroon = ta.trend.AroonIndicator(close=df['Close'])\n",
    "df['Aroon']= Aroon.aroon_indicator()\n",
    "\n",
    "plot('Aroon')"
   ]
  },
  {
   "cell_type": "code",
   "execution_count": null,
   "metadata": {},
   "outputs": [],
   "source": [
    "# MFI = ta.volume.MFIIndicator(high=df['High'],low=df['Low'],close=df['Close'],volume=df['Volume'])\n",
    "# df['MFI']=MFI.money_flow_index()\n",
    "\n",
    "# plot('MFI')"
   ]
  },
  {
   "cell_type": "code",
   "execution_count": null,
   "metadata": {},
   "outputs": [],
   "source": [
    "\n",
    "candle_body = []\n",
    "candle_body = (df['Close']-df['Open'])\n",
    "df['Candle_Body'] = candle_body\n",
    "\n",
    "#Calculation candle body percentage relative to last candle's closing price\n",
    "# candle_body_percentage = []\n",
    "\n",
    "# candle : float\n",
    "# candle_body.append(0)\n",
    "\n",
    "# for i in range(1,len(df['Close'])):\n",
    "#     candle = (df['Close'][i] - df['Open'][i])/df['Close'][i-1]\n",
    "#     candle_body.append(candle)\n",
    "\n",
    "# df['candle_body_percent'] = candle_body\n",
    "\n",
    "\n",
    "# Calculating candle upper and lower shadow\n",
    "candle_upper_shadow = []\n",
    "candle_lower_shadow = []\n",
    "\n",
    "for i in range(len(df['Candle_Body'])):\n",
    "    \n",
    "    if(df['Close'][i] > df['Open'][i]):\n",
    "        candle_upper_shadow.append( (df['High'][i] - df['Close'][i]) )\n",
    "    else:\n",
    "        candle_upper_shadow.append( (df['High'][i] - df['Open'][i]) )\n",
    "\n",
    "    if(df['Close'][i] > df['Open'][i]):\n",
    "        candle_lower_shadow.append( (df['Open'][i] - df['Low'][i])  )\n",
    "    else:\n",
    "        candle_lower_shadow.append( (df['Close'][i] - df['Low'][i]) )\n",
    "\n",
    "df['Candle_Upper_Shadow']=candle_upper_shadow\n",
    "df['Candle_Lower_Shadow']=candle_lower_shadow  \n",
    "\n",
    "plot('Candle_Body')"
   ]
  },
  {
   "cell_type": "code",
   "execution_count": null,
   "metadata": {},
   "outputs": [],
   "source": [
    "plot('Candle_Upper_Shadow')"
   ]
  },
  {
   "cell_type": "code",
   "execution_count": null,
   "metadata": {},
   "outputs": [],
   "source": [
    "buy_or_sell = []\n",
    "buy_or_sell_number = []\n",
    "\n",
    "\n",
    "def average(index:int , future_window_size:int):\n",
    "    sum = 0.\n",
    "    for i in range(index, index+future_window_size ):\n",
    "        sum += df['Close'][i+1]\n",
    "\n",
    "    return sum/future_window_size           \n",
    "\n",
    "# number_of_buys = 0\n",
    "# number_of_sells= 0\n",
    "for i in range(len(df['Close'])-24):\n",
    "    if(average(i,24)>df['Close'][i]):\n",
    "        buy_or_sell.append('Buy')\n",
    "        buy_or_sell_number.append(1)\n",
    "        # number_of_buys = number_of_buys+1\n",
    "    else:\n",
    "        buy_or_sell.append('Sell')\n",
    "        buy_or_sell_number.append(0)\n",
    "        # number_of_sells = number_of_sells+1\n",
    "\n",
    "for i in range(24):\n",
    "    buy_or_sell.append(None)\n",
    "    buy_or_sell_number.append(-1)\n",
    "\n",
    "df['Class']= buy_or_sell\n",
    "df['Class_Number'] = buy_or_sell_number"
   ]
  },
  {
   "cell_type": "code",
   "execution_count": null,
   "metadata": {},
   "outputs": [],
   "source": [
    "#REMEMBER : ONE HOT ENCODING\n",
    "# indices = buy_or_sell_number.copy()\n",
    "# del indices[-24:]\n",
    "\n",
    "# depth = 2\n",
    "# tf.one_hot(indices, depth)  # output: [3 x 3]"
   ]
  },
  {
   "cell_type": "code",
   "execution_count": null,
   "metadata": {},
   "outputs": [],
   "source": [
    "\n",
    "# df.pop('Unnamed: 0')\n",
    "df_copy = df.copy()\n",
    "\n",
    "df_copy['Date'] = date_time\n",
    "\n",
    "\n",
    "df_copy = df_copy.drop(labels=[i for i in range(158)], axis=0)\n",
    "df_copy = df_copy.reset_index()\n",
    "\n",
    "df_copy = df_copy.drop(labels=[(df_copy.shape[0]-i) for i in range(1,25)] ,axis=0)\n",
    "df_copy = df_copy.reset_index()\n",
    "\n",
    "df_copy.pop('index')\n",
    "df_copy.pop('level_0')\n",
    "\n",
    "df_copy[-25:]\n",
    "\n",
    "#SAVE HERE\n",
    "# df_copy.to_csv('../data/sp500_with_indicators.csv',index=False)\n",
    "\n"
   ]
  },
  {
   "cell_type": "code",
   "execution_count": null,
   "metadata": {},
   "outputs": [],
   "source": [
    "# df_copy.plot(subplots=True)"
   ]
  }
 ],
 "metadata": {
  "interpreter": {
   "hash": "2b0900fbe6dcf68ba8657d6a73781eea6c8e04d861aa42c88ba789e96c4944de"
  },
  "kernelspec": {
   "display_name": "Python 3.8.12 64-bit ('tensor': conda)",
   "language": "python",
   "name": "python3"
  },
  "language_info": {
   "codemirror_mode": {
    "name": "ipython",
    "version": 3
   },
   "file_extension": ".py",
   "mimetype": "text/x-python",
   "name": "python",
   "nbconvert_exporter": "python",
   "pygments_lexer": "ipython3",
   "version": "3.9.7"
  },
  "orig_nbformat": 4
 },
 "nbformat": 4,
 "nbformat_minor": 2
}
