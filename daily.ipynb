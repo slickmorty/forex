{
 "cells": [
  {
   "cell_type": "code",
   "execution_count": 142,
   "metadata": {},
   "outputs": [],
   "source": [
    "import datetime\n",
    "import IPython\n",
    "import IPython.display\n",
    "import matplotlib as mpl\n",
    "import matplotlib.pyplot as plt\n",
    "import numpy as np\n",
    "import pandas as pd\n",
    "import seaborn as sns\n",
    "import tensorflow as tf\n",
    "from tensorflow.keras import Sequential,activations\n",
    "from tensorflow.keras.layers import Dense,LSTM,Reshape,Dropout,InputLayer,Flatten,Input,BatchNormalization\n",
    "from tensorflow.keras.callbacks import TensorBoard , ModelCheckpoint\n",
    "import pathlib\n",
    "\n",
    "mpl.rcParams['figure.figsize'] = (12, 8)\n",
    "mpl.rcParams['axes.grid'] = False"
   ]
  },
  {
   "cell_type": "code",
   "execution_count": 143,
   "metadata": {},
   "outputs": [
    {
     "data": {
      "text/html": [
       "<div>\n",
       "<style scoped>\n",
       "    .dataframe tbody tr th:only-of-type {\n",
       "        vertical-align: middle;\n",
       "    }\n",
       "\n",
       "    .dataframe tbody tr th {\n",
       "        vertical-align: top;\n",
       "    }\n",
       "\n",
       "    .dataframe thead th {\n",
       "        text-align: right;\n",
       "    }\n",
       "</style>\n",
       "<table border=\"1\" class=\"dataframe\">\n",
       "  <thead>\n",
       "    <tr style=\"text-align: right;\">\n",
       "      <th></th>\n",
       "      <th>Open</th>\n",
       "      <th>High</th>\n",
       "      <th>Low</th>\n",
       "      <th>Close</th>\n",
       "      <th>Adj Close</th>\n",
       "      <th>Volume</th>\n",
       "      <th>SMA_10</th>\n",
       "      <th>SMA_20</th>\n",
       "      <th>SMA_50</th>\n",
       "      <th>SMA_100</th>\n",
       "      <th>...</th>\n",
       "      <th>DON_CHIAN_hband</th>\n",
       "      <th>DON_CHIAN_lband</th>\n",
       "      <th>DON_CHIAN_mband</th>\n",
       "      <th>DON_CHIAN_pband</th>\n",
       "      <th>VWAP</th>\n",
       "      <th>ADX_Pos</th>\n",
       "      <th>ADX_Neg</th>\n",
       "      <th>Aroon</th>\n",
       "      <th>MFI</th>\n",
       "      <th>Time</th>\n",
       "    </tr>\n",
       "  </thead>\n",
       "  <tbody>\n",
       "    <tr>\n",
       "      <th>0</th>\n",
       "      <td>164.675003</td>\n",
       "      <td>168.074997</td>\n",
       "      <td>164.029999</td>\n",
       "      <td>168.074997</td>\n",
       "      <td>168.074997</td>\n",
       "      <td>324140000</td>\n",
       "      <td>162.876001</td>\n",
       "      <td>163.465250</td>\n",
       "      <td>160.784400</td>\n",
       "      <td>161.535300</td>\n",
       "      <td>...</td>\n",
       "      <td>168.074997</td>\n",
       "      <td>159.544998</td>\n",
       "      <td>163.809998</td>\n",
       "      <td>1.000000</td>\n",
       "      <td>163.367909</td>\n",
       "      <td>37.050097</td>\n",
       "      <td>18.487196</td>\n",
       "      <td>88.0</td>\n",
       "      <td>65.297013</td>\n",
       "      <td>6.312384e+08</td>\n",
       "    </tr>\n",
       "    <tr>\n",
       "      <th>1</th>\n",
       "      <td>168.074997</td>\n",
       "      <td>168.419998</td>\n",
       "      <td>167.229996</td>\n",
       "      <td>167.695007</td>\n",
       "      <td>167.695007</td>\n",
       "      <td>384660000</td>\n",
       "      <td>163.490501</td>\n",
       "      <td>163.644001</td>\n",
       "      <td>160.894800</td>\n",
       "      <td>161.595200</td>\n",
       "      <td>...</td>\n",
       "      <td>168.419998</td>\n",
       "      <td>159.544998</td>\n",
       "      <td>163.982498</td>\n",
       "      <td>0.918311</td>\n",
       "      <td>163.626961</td>\n",
       "      <td>36.638828</td>\n",
       "      <td>17.543687</td>\n",
       "      <td>88.0</td>\n",
       "      <td>65.586938</td>\n",
       "      <td>6.313248e+08</td>\n",
       "    </tr>\n",
       "    <tr>\n",
       "      <th>2</th>\n",
       "      <td>167.695007</td>\n",
       "      <td>167.695007</td>\n",
       "      <td>164.934998</td>\n",
       "      <td>166.419998</td>\n",
       "      <td>166.419998</td>\n",
       "      <td>354000000</td>\n",
       "      <td>164.029501</td>\n",
       "      <td>163.800251</td>\n",
       "      <td>161.002300</td>\n",
       "      <td>161.659900</td>\n",
       "      <td>...</td>\n",
       "      <td>168.419998</td>\n",
       "      <td>159.544998</td>\n",
       "      <td>163.982498</td>\n",
       "      <td>0.774648</td>\n",
       "      <td>163.669121</td>\n",
       "      <td>32.496377</td>\n",
       "      <td>24.961459</td>\n",
       "      <td>88.0</td>\n",
       "      <td>57.587335</td>\n",
       "      <td>6.314112e+08</td>\n",
       "    </tr>\n",
       "    <tr>\n",
       "      <th>3</th>\n",
       "      <td>166.419998</td>\n",
       "      <td>166.595001</td>\n",
       "      <td>164.410004</td>\n",
       "      <td>164.774994</td>\n",
       "      <td>164.774994</td>\n",
       "      <td>317060000</td>\n",
       "      <td>164.431500</td>\n",
       "      <td>163.890751</td>\n",
       "      <td>161.081400</td>\n",
       "      <td>161.712800</td>\n",
       "      <td>...</td>\n",
       "      <td>168.419998</td>\n",
       "      <td>159.544998</td>\n",
       "      <td>163.982498</td>\n",
       "      <td>0.589295</td>\n",
       "      <td>163.689985</td>\n",
       "      <td>29.639379</td>\n",
       "      <td>24.879322</td>\n",
       "      <td>28.0</td>\n",
       "      <td>58.094088</td>\n",
       "      <td>6.314976e+08</td>\n",
       "    </tr>\n",
       "    <tr>\n",
       "      <th>4</th>\n",
       "      <td>164.774994</td>\n",
       "      <td>166.119995</td>\n",
       "      <td>164.009995</td>\n",
       "      <td>165.889999</td>\n",
       "      <td>165.889999</td>\n",
       "      <td>280220000</td>\n",
       "      <td>164.887500</td>\n",
       "      <td>164.039001</td>\n",
       "      <td>161.196200</td>\n",
       "      <td>161.766000</td>\n",
       "      <td>...</td>\n",
       "      <td>168.419998</td>\n",
       "      <td>159.544998</td>\n",
       "      <td>163.982498</td>\n",
       "      <td>0.714930</td>\n",
       "      <td>163.778513</td>\n",
       "      <td>27.156450</td>\n",
       "      <td>24.383266</td>\n",
       "      <td>28.0</td>\n",
       "      <td>67.311771</td>\n",
       "      <td>6.317568e+08</td>\n",
       "    </tr>\n",
       "    <tr>\n",
       "      <th>...</th>\n",
       "      <td>...</td>\n",
       "      <td>...</td>\n",
       "      <td>...</td>\n",
       "      <td>...</td>\n",
       "      <td>...</td>\n",
       "      <td>...</td>\n",
       "      <td>...</td>\n",
       "      <td>...</td>\n",
       "      <td>...</td>\n",
       "      <td>...</td>\n",
       "      <td>...</td>\n",
       "      <td>...</td>\n",
       "      <td>...</td>\n",
       "      <td>...</td>\n",
       "      <td>...</td>\n",
       "      <td>...</td>\n",
       "      <td>...</td>\n",
       "      <td>...</td>\n",
       "      <td>...</td>\n",
       "      <td>...</td>\n",
       "      <td>...</td>\n",
       "    </tr>\n",
       "    <tr>\n",
       "      <th>8055</th>\n",
       "      <td>2117.540039</td>\n",
       "      <td>2117.540039</td>\n",
       "      <td>2095.469971</td>\n",
       "      <td>2111.699951</td>\n",
       "      <td>2111.699951</td>\n",
       "      <td>3395780000</td>\n",
       "      <td>2155.818994</td>\n",
       "      <td>2143.689990</td>\n",
       "      <td>2123.773198</td>\n",
       "      <td>2080.457094</td>\n",
       "      <td>...</td>\n",
       "      <td>2196.340088</td>\n",
       "      <td>2074.929932</td>\n",
       "      <td>2135.635010</td>\n",
       "      <td>0.302858</td>\n",
       "      <td>2139.333549</td>\n",
       "      <td>19.306672</td>\n",
       "      <td>27.793805</td>\n",
       "      <td>28.0</td>\n",
       "      <td>39.508188</td>\n",
       "      <td>1.639958e+09</td>\n",
       "    </tr>\n",
       "    <tr>\n",
       "      <th>8056</th>\n",
       "      <td>2123.580078</td>\n",
       "      <td>2147.030029</td>\n",
       "      <td>2112.060059</td>\n",
       "      <td>2145.979980</td>\n",
       "      <td>2145.979980</td>\n",
       "      <td>2564370000</td>\n",
       "      <td>2154.006982</td>\n",
       "      <td>2142.815991</td>\n",
       "      <td>2126.607197</td>\n",
       "      <td>2081.799393</td>\n",
       "      <td>...</td>\n",
       "      <td>2191.189941</td>\n",
       "      <td>2074.929932</td>\n",
       "      <td>2133.059937</td>\n",
       "      <td>0.611131</td>\n",
       "      <td>2141.254205</td>\n",
       "      <td>24.400998</td>\n",
       "      <td>25.587079</td>\n",
       "      <td>28.0</td>\n",
       "      <td>46.003816</td>\n",
       "      <td>1.640045e+09</td>\n",
       "    </tr>\n",
       "    <tr>\n",
       "      <th>8057</th>\n",
       "      <td>2147.370117</td>\n",
       "      <td>2170.709961</td>\n",
       "      <td>2144.620117</td>\n",
       "      <td>2169.989990</td>\n",
       "      <td>2169.989990</td>\n",
       "      <td>2439570000</td>\n",
       "      <td>2153.967993</td>\n",
       "      <td>2143.006995</td>\n",
       "      <td>2130.088198</td>\n",
       "      <td>2083.412194</td>\n",
       "      <td>...</td>\n",
       "      <td>2191.189941</td>\n",
       "      <td>2074.929932</td>\n",
       "      <td>2133.059937</td>\n",
       "      <td>0.817651</td>\n",
       "      <td>2144.944537</td>\n",
       "      <td>28.342309</td>\n",
       "      <td>24.067435</td>\n",
       "      <td>28.0</td>\n",
       "      <td>52.461923</td>\n",
       "      <td>1.640131e+09</td>\n",
       "    </tr>\n",
       "    <tr>\n",
       "      <th>8058</th>\n",
       "      <td>2172.469971</td>\n",
       "      <td>2189.979980</td>\n",
       "      <td>2172.469971</td>\n",
       "      <td>2183.219971</td>\n",
       "      <td>2183.219971</td>\n",
       "      <td>2194630000</td>\n",
       "      <td>2156.613989</td>\n",
       "      <td>2143.630493</td>\n",
       "      <td>2133.714797</td>\n",
       "      <td>2085.001094</td>\n",
       "      <td>...</td>\n",
       "      <td>2191.189941</td>\n",
       "      <td>2074.929932</td>\n",
       "      <td>2133.059937</td>\n",
       "      <td>0.931447</td>\n",
       "      <td>2150.704121</td>\n",
       "      <td>31.521640</td>\n",
       "      <td>22.943092</td>\n",
       "      <td>64.0</td>\n",
       "      <td>59.305448</td>\n",
       "      <td>1.640218e+09</td>\n",
       "    </tr>\n",
       "    <tr>\n",
       "      <th>8059</th>\n",
       "      <td>2187.189941</td>\n",
       "      <td>2212.679932</td>\n",
       "      <td>2187.189941</td>\n",
       "      <td>2212.570068</td>\n",
       "      <td>2212.570068</td>\n",
       "      <td>2264120000</td>\n",
       "      <td>2159.708984</td>\n",
       "      <td>2148.139001</td>\n",
       "      <td>2137.273198</td>\n",
       "      <td>2086.965795</td>\n",
       "      <td>...</td>\n",
       "      <td>2212.679932</td>\n",
       "      <td>2074.929932</td>\n",
       "      <td>2143.804932</td>\n",
       "      <td>0.999202</td>\n",
       "      <td>2156.185574</td>\n",
       "      <td>34.664514</td>\n",
       "      <td>21.359429</td>\n",
       "      <td>68.0</td>\n",
       "      <td>58.451277</td>\n",
       "      <td>1.640563e+09</td>\n",
       "    </tr>\n",
       "  </tbody>\n",
       "</table>\n",
       "<p>8060 rows × 46 columns</p>\n",
       "</div>"
      ],
      "text/plain": [
       "             Open         High          Low        Close    Adj Close  \\\n",
       "0      164.675003   168.074997   164.029999   168.074997   168.074997   \n",
       "1      168.074997   168.419998   167.229996   167.695007   167.695007   \n",
       "2      167.695007   167.695007   164.934998   166.419998   166.419998   \n",
       "3      166.419998   166.595001   164.410004   164.774994   164.774994   \n",
       "4      164.774994   166.119995   164.009995   165.889999   165.889999   \n",
       "...           ...          ...          ...          ...          ...   \n",
       "8055  2117.540039  2117.540039  2095.469971  2111.699951  2111.699951   \n",
       "8056  2123.580078  2147.030029  2112.060059  2145.979980  2145.979980   \n",
       "8057  2147.370117  2170.709961  2144.620117  2169.989990  2169.989990   \n",
       "8058  2172.469971  2189.979980  2172.469971  2183.219971  2183.219971   \n",
       "8059  2187.189941  2212.679932  2187.189941  2212.570068  2212.570068   \n",
       "\n",
       "          Volume       SMA_10       SMA_20       SMA_50      SMA_100  ...  \\\n",
       "0      324140000   162.876001   163.465250   160.784400   161.535300  ...   \n",
       "1      384660000   163.490501   163.644001   160.894800   161.595200  ...   \n",
       "2      354000000   164.029501   163.800251   161.002300   161.659900  ...   \n",
       "3      317060000   164.431500   163.890751   161.081400   161.712800  ...   \n",
       "4      280220000   164.887500   164.039001   161.196200   161.766000  ...   \n",
       "...          ...          ...          ...          ...          ...  ...   \n",
       "8055  3395780000  2155.818994  2143.689990  2123.773198  2080.457094  ...   \n",
       "8056  2564370000  2154.006982  2142.815991  2126.607197  2081.799393  ...   \n",
       "8057  2439570000  2153.967993  2143.006995  2130.088198  2083.412194  ...   \n",
       "8058  2194630000  2156.613989  2143.630493  2133.714797  2085.001094  ...   \n",
       "8059  2264120000  2159.708984  2148.139001  2137.273198  2086.965795  ...   \n",
       "\n",
       "      DON_CHIAN_hband  DON_CHIAN_lband  DON_CHIAN_mband  DON_CHIAN_pband  \\\n",
       "0          168.074997       159.544998       163.809998         1.000000   \n",
       "1          168.419998       159.544998       163.982498         0.918311   \n",
       "2          168.419998       159.544998       163.982498         0.774648   \n",
       "3          168.419998       159.544998       163.982498         0.589295   \n",
       "4          168.419998       159.544998       163.982498         0.714930   \n",
       "...               ...              ...              ...              ...   \n",
       "8055      2196.340088      2074.929932      2135.635010         0.302858   \n",
       "8056      2191.189941      2074.929932      2133.059937         0.611131   \n",
       "8057      2191.189941      2074.929932      2133.059937         0.817651   \n",
       "8058      2191.189941      2074.929932      2133.059937         0.931447   \n",
       "8059      2212.679932      2074.929932      2143.804932         0.999202   \n",
       "\n",
       "             VWAP    ADX_Pos    ADX_Neg  Aroon        MFI          Time  \n",
       "0      163.367909  37.050097  18.487196   88.0  65.297013  6.312384e+08  \n",
       "1      163.626961  36.638828  17.543687   88.0  65.586938  6.313248e+08  \n",
       "2      163.669121  32.496377  24.961459   88.0  57.587335  6.314112e+08  \n",
       "3      163.689985  29.639379  24.879322   28.0  58.094088  6.314976e+08  \n",
       "4      163.778513  27.156450  24.383266   28.0  67.311771  6.317568e+08  \n",
       "...           ...        ...        ...    ...        ...           ...  \n",
       "8055  2139.333549  19.306672  27.793805   28.0  39.508188  1.639958e+09  \n",
       "8056  2141.254205  24.400998  25.587079   28.0  46.003816  1.640045e+09  \n",
       "8057  2144.944537  28.342309  24.067435   28.0  52.461923  1.640131e+09  \n",
       "8058  2150.704121  31.521640  22.943092   64.0  59.305448  1.640218e+09  \n",
       "8059  2156.185574  34.664514  21.359429   68.0  58.451277  1.640563e+09  \n",
       "\n",
       "[8060 rows x 46 columns]"
      ]
     },
     "execution_count": 143,
     "metadata": {},
     "output_type": "execute_result"
    }
   ],
   "source": [
    "df = pd.read_csv('data/sp100_indicator_1990.csv')\n",
    "df.pop('Unnamed: 0')\n",
    "\n",
    "date_time = pd.to_datetime(df.pop('Date'),\n",
    "                           format='%Y.%m.%d')\n",
    "\n",
    "timestamp_s = date_time.map(pd.Timestamp.timestamp)\n",
    "df['Time']= timestamp_s\n",
    "# timestamp_s = timestamp_s.map(pd.Timestamp.normalize)\n",
    "# timestamp_s = pd.Timestamp(date_time)\n",
    "df\n"
   ]
  },
  {
   "cell_type": "code",
   "execution_count": 144,
   "metadata": {},
   "outputs": [],
   "source": [
    "# timestamp_s = date_time.map(pd.Timestamp.timestamp)\n",
    "# timestamp_s\n",
    "# year = 365.2425\n",
    "# df['1 Year sin'] = np.sin(timestamp_s * (2 * np.pi / year))\n",
    "# df['1 Year cos'] = np.cos(timestamp_s * (2 * np.pi / year))"
   ]
  },
  {
   "cell_type": "code",
   "execution_count": 145,
   "metadata": {},
   "outputs": [],
   "source": [
    "# twoYear = year * 2\n",
    "# threeYear = year * 3\n",
    "# fourYear = year *4\n",
    "# fiveYear = year *5\n",
    "# sixYear = year *6\n",
    "# sevenYear = year *7\n",
    "# eightYear = year *8\n",
    "# nineYear = year *9\n",
    "# tenYear = year *10\n",
    "# twentyYear = year *20\n",
    "# fortyYear = year * 40"
   ]
  },
  {
   "cell_type": "code",
   "execution_count": 146,
   "metadata": {},
   "outputs": [],
   "source": [
    "\n",
    "# df['2 Year sin'] = np.sin(timestamp_s * (2 * np.pi / twoYear))\n",
    "# df['2 Year cos'] = np.cos(timestamp_s * (2 * np.pi / twoYear))\n",
    "# df['3 Year sin'] = np.sin(timestamp_s * (2 * np.pi / threeYear))\n",
    "# df['3 Year cos'] = np.cos(timestamp_s * (2 * np.pi / threeYear))\n",
    "# df['4 Year sin'] = np.sin(timestamp_s * (2 * np.pi / fourYear))\n",
    "# df['4 Year cos'] = np.cos(timestamp_s * (2 * np.pi / fourYear))\n",
    "# df['5 Year sin'] = np.sin(timestamp_s * (2 * np.pi / fiveYear))\n",
    "# df['5 Year cos'] = np.cos(timestamp_s * (2 * np.pi / fiveYear))\n",
    "# df['6 Year sin'] = np.sin(timestamp_s * (2 * np.pi / sixYear))\n",
    "# df['6 Year cos'] = np.cos(timestamp_s * (2 * np.pi / sixYear))\n",
    "# df['7 Year sin'] = np.sin(timestamp_s * (2 * np.pi / sevenYear))\n",
    "# df['7 Year cos'] = np.cos(timestamp_s * (2 * np.pi / sevenYear))\n",
    "# df['8 Year sin'] = np.sin(timestamp_s * (2 * np.pi / eightYear))\n",
    "# df['8 Year cos'] = np.cos(timestamp_s * (2 * np.pi / eightYear))\n",
    "# df['9 Year sin'] = np.sin(timestamp_s * (2 * np.pi / nineYear))\n",
    "# df['9 Year cos'] = np.cos(timestamp_s * (2 * np.pi / nineYear))\n",
    "# df['10 Year sin'] = np.sin(timestamp_s * (2 * np.pi / tenYear))\n",
    "# df['10 Year cos'] = np.cos(timestamp_s * (2 * np.pi / tenYear))\n",
    "# df['20 Year sin'] = np.sin(timestamp_s * (2 * np.pi / twentyYear))\n",
    "# df['20 Year cos'] = np.cos(timestamp_s * (2 * np.pi / twentyYear))\n",
    "# df['40 Year sin'] = np.sin(timestamp_s * (2 * np.pi / fortyYear))\n",
    "# df['40 Year cos'] = np.cos(timestamp_s * (2 * np.pi / fortyYear))\n",
    "\n",
    "# df.head()"
   ]
  },
  {
   "cell_type": "code",
   "execution_count": 147,
   "metadata": {},
   "outputs": [],
   "source": [
    "# plot_cols = ['1 Year sin','2 Year sin','3 Year sin','4 Year sin','5 Year sin','6 Year sin','7 Year sin','8 Year sin','9 Year sin','10 Year sin','20 Year sin','40 Year sin']\n",
    "# plot_features = df[plot_cols]\n",
    "# plot_features.index = date_time\n",
    "# _ = plot_features.plot(subplots=True)"
   ]
  },
  {
   "cell_type": "code",
   "execution_count": null,
   "metadata": {},
   "outputs": [],
   "source": [
    "# fft = tf.signal.rfft(df['Close'])\n",
    "# f_per_dataset = np.arange(0, len(fft))\n",
    "\n",
    "# n_samples_h = len(df['Close'])\n",
    "\n",
    "# hours_per_year = 365.2524\n",
    "# years_per_dataset = n_samples_h/(hours_per_year)\n",
    "\n",
    "# f_per_year = f_per_dataset/years_per_dataset\n",
    "# plt.step(f_per_year, np.abs(fft))\n",
    "# plt.xscale('log')\n",
    "\n",
    "# _ = plt.xlabel('Frequency')"
   ]
  },
  {
   "cell_type": "code",
   "execution_count": null,
   "metadata": {},
   "outputs": [],
   "source": [
    "# ipa = np.arange(0,10000)\n",
    "# sin = np.sin(ipa)\n",
    "\n",
    "# fft = tf.signal.rfft(sin)\n",
    "# f_per_dataset = np.arange(0, len(fft))\n",
    "\n",
    "# n_samples_h = len(sin)\n",
    "\n",
    "# hours_per_year = 365.2524\n",
    "# years_per_dataset = n_samples_h/(hours_per_year)\n",
    "\n",
    "# f_per_year = f_per_dataset/years_per_dataset\n",
    "# plt.step(f_per_year, np.abs(fft))\n",
    "# plt.xscale('log')\n",
    "\n",
    "# _ = plt.xlabel('Frequency')"
   ]
  },
  {
   "cell_type": "code",
   "execution_count": 194,
   "metadata": {},
   "outputs": [],
   "source": [
    "class dataProcessing():\n",
    "\n",
    "    def __init__(self ,data,input_width ,prediction_days , label_columns , stockname):\n",
    "\n",
    "        self.stockname = stockname\n",
    "        self.input_width = input_width\n",
    "        self.prediction_days = prediction_days\n",
    "        self.label_columns = label_columns\n",
    "        self.data = data\n",
    "\n",
    "        self.column_indices = {name: i for i, name in enumerate(data.columns)}\n",
    "        self.num_features = data.shape[1]\n",
    "        \n",
    "        #slit into test,validation and train data\n",
    "        n = len(data)\n",
    "        self.train_dataset = data[:int(0.95 * n)]\n",
    "        # self.val_dataset = data[-200:-100]\n",
    "        self.test_dataset = data[int(0.95 * n):]\n",
    "        \n",
    "        #reset indecies\n",
    "\n",
    "        # self.val_dataset = self.val_dataset.reset_index()\n",
    "        # self.val_dataset.pop('index')\n",
    "        self.test_dataset = self.test_dataset.reset_index()\n",
    "        self.test_dataset.pop('index')\n",
    "        \n",
    "\n",
    "        #Normalizing The Data\n",
    "\n",
    "        self.train_std = self.train_dataset.std()  \n",
    "        self.train_mean = self.train_dataset.mean()\n",
    "        \n",
    "        self.train_dataset = (self.train_dataset - self.train_mean) / self.train_std\n",
    "        # self.val_dataset = (self.val_dataset - self.train_mean) / self.train_std\n",
    "        self.test_dataset = (self.test_dataset - self.train_mean) / self.train_std\n",
    "\n",
    "    def plot_normalized_data(self):\n",
    "        data_std = (self.data - self.train_mean) / self.train_std\n",
    "        data_std = data_std.melt(var_name='Column', value_name='Normalized')\n",
    "        plt.figure(figsize=(12, 6))\n",
    "        ax = sns.violinplot(x='Column', y='Normalized', data=data_std)\n",
    "        _ = ax.set_xticklabels(self.data.keys(), rotation=90)\n",
    "\n",
    "    def make_windows(self,data:pd.core.frame.DataFrame):\n",
    "        \n",
    "        window_input = []\n",
    "        window_output=[]\n",
    "\n",
    "        for i in range(self.input_width,len(data)-self.prediction_days):\n",
    "\n",
    "            \n",
    "            window_input.append(data[i-self.input_width:i].reset_index())\n",
    "            window_output.append(data[self.label_columns][i:i+self.prediction_days].reset_index())\n",
    "\n",
    "            window_input[-1].pop('index')\n",
    "            window_output[-1].pop('index')\n",
    "            \n",
    "            #convert pd.DataFrame to numpy\n",
    "            window_input[-1]= window_input[-1].to_numpy() \n",
    "            window_output[-1]= window_output[-1].to_numpy() \n",
    "\n",
    "        #convert list to numpy\n",
    "        window_input = np.asarray(window_input)\n",
    "        window_output = np.asarray(window_output)\n",
    "\n",
    "        return window_input,window_output  \n",
    "\n",
    "    def test(self, model,test_data):\n",
    "\n",
    "        x_test , y_test = self.make_windows(test_data)\n",
    "\n",
    "        predicted_prices=model.predict(x_test)\n",
    "\n",
    "        for i in range(len(self.label_columns)):\n",
    "            predicted_prices[:,:,i]=(predicted_prices[:,:,i]*self.train_std[self.label_columns[i]])+self.train_mean[self.label_columns[i]]\n",
    "            y_test[:,:,i]=(y_test[:,:,i]*self.train_std[self.label_columns[i]])+self.train_mean[self.label_columns[i]]        \n",
    "\n",
    "        return predicted_prices , y_test\n",
    "        \n",
    "\n",
    "    # def test(self,model,test_data):\n",
    "\n",
    "    #     predicted_prices=model.predict(test_data)\n",
    "\n",
    "    #     for i in range(len(self.label_columns)):\n",
    "    #         predicted_prices[:,:,i]=(predicted_prices[:,:,i]*self.train_std[self.label_columns[i]])+self.train_mean[self.label_columns[i]]\n",
    "    #         y_test[:,:,i]=(y_test[:,:,i]*self.train_std[self.label_columns[i]])+self.train_mean[self.label_columns[i]]        \n",
    "\n",
    "    #     return predicted_prices , y_test\n",
    "        \n",
    "\n",
    "\n",
    "    def plot_and_saveCSV(self,model,modelname,predicted,real):\n",
    "\n",
    "        #check if path is available\n",
    "        path = f'./models/{modelname}/{self.stockname}/figures'\n",
    "        pathlib.Path(path).mkdir(parents=True,exist_ok=True)\n",
    "\n",
    "        # pd.DataFrame(predicted).to_csv(f'models/{modelname}/{self.stockname}/predicted.csv')\n",
    "        # pd.DataFrame(real).to_csv(f'models/{modelname}/{self.stockname}/real.csv')\n",
    "\n",
    "        for i in range(len(real)):\n",
    "                \n",
    "            plt.plot(real[i,:,:], color=\"black\",label=f\"real\", marker='o', ms=10)\n",
    "            plt.plot(predicted[i,:,:], color=\"green\",label=f\"predicted\", marker='o', ms=10)\n",
    "\n",
    "            plt.savefig(f'models/{modelname}/{self.stockname}/figures/fig-{i+1}.png')\n",
    "            plt.clf()\n",
    "        \n"
   ]
  },
  {
   "cell_type": "code",
   "execution_count": 195,
   "metadata": {},
   "outputs": [],
   "source": [
    "class WindowGenerator():\n",
    "\n",
    "    def __init__(self, input_width, label_width, shift,\n",
    "                train_df, val_df, test_df,label_columns=None):\n",
    "        # Store the raw data.\n",
    "        self.train_df = train_df\n",
    "        self.val_df = val_df\n",
    "        self.test_df = test_df\n",
    "\n",
    "        # Work out the label column indices.\n",
    "        self.label_columns = label_columns\n",
    "        if label_columns is not None:\n",
    "            self.label_columns_indices = {name: i for i, name in\n",
    "                                        enumerate(label_columns)}\n",
    "        self.column_indices = {name: i for i, name in\n",
    "                                enumerate(train_df.columns)}\n",
    "\n",
    "        # Work out the window parameters.\n",
    "        self.input_width = input_width\n",
    "        self.label_width = label_width\n",
    "        self.shift = shift\n",
    "\n",
    "        self.total_window_size = input_width + shift\n",
    "\n",
    "        self.input_slice = slice(0, input_width)\n",
    "        self.input_indices = np.arange(self.total_window_size)[self.input_slice]\n",
    "\n",
    "        self.label_start = self.total_window_size - self.label_width\n",
    "        self.labels_slice = slice(self.label_start, None)\n",
    "        self.label_indices = np.arange(self.total_window_size)[self.labels_slice]\n",
    "        \n",
    "    def __repr__(self):\n",
    "        return '\\n'.join([\n",
    "        f'Total window size: {self.total_window_size}',\n",
    "        f'Input indices: {self.input_indices}',\n",
    "        f'Label indices: {self.label_indices}',\n",
    "        f'Label column name(s): {self.label_columns}'])\n",
    "\n",
    "\n",
    "    def split_window(self, features):   \n",
    "        inputs = features[:, self.input_slice, :]\n",
    "        labels = features[:, self.labels_slice, :]\n",
    "        if self.label_columns is not None:\n",
    "            labels = tf.stack(\n",
    "                [labels[:, :, self.column_indices[name]] for name in self.label_columns],\n",
    "                axis=-1)\n",
    "\n",
    "        # Slicing doesn't preserve static shape information, so set the shapes\n",
    "        # manually. This way the `tf.data.Datasets` are easier to inspect.\n",
    "        inputs.set_shape([None, self.input_width, None])\n",
    "        labels.set_shape([None, self.label_width, None])\n",
    "\n",
    "        return inputs, labels\n",
    "\n",
    "    def plot(self, model=None, plot_col='T (degC)', max_subplots=3):\n",
    "        inputs, labels = self.example\n",
    "        plt.figure(figsize=(12, 8))\n",
    "        plot_col_index = self.column_indices[plot_col]\n",
    "        max_n = min(max_subplots, len(inputs))\n",
    "        for n in range(max_n):\n",
    "            plt.subplot(max_n, 1, n+1)\n",
    "            plt.ylabel(f'{plot_col} [normed]')\n",
    "            plt.plot(self.input_indices, inputs[n, :, plot_col_index],\n",
    "                    label='Inputs', marker='.', zorder=-10)\n",
    "\n",
    "            if self.label_columns:\n",
    "                label_col_index = self.label_columns_indices.get(plot_col, None)\n",
    "            else:\n",
    "                label_col_index = plot_col_index\n",
    "\n",
    "            if label_col_index is None:\n",
    "                continue\n",
    "\n",
    "            plt.scatter(self.label_indices, labels[n, :, label_col_index],\n",
    "                        edgecolors='k', label='Labels', c='#2ca02c', s=64)\n",
    "            if model is not None:\n",
    "                predictions = model(inputs)\n",
    "                plt.scatter(self.label_indices, predictions[n, :, label_col_index],\n",
    "                            marker='X', edgecolors='k', label='Predictions',\n",
    "                            c='#ff7f0e', s=64)\n",
    "\n",
    "            if n == 0:\n",
    "                plt.legend()\n",
    "\n",
    "        plt.xlabel('Time [h]')\n",
    "\n",
    "    def make_dataset(self, data):\n",
    "        data = np.array(data, dtype=np.float32)\n",
    "        ds = tf.keras.preprocessing.timeseries_dataset_from_array(\n",
    "            data=data,\n",
    "            targets=None,\n",
    "            sequence_length=self.total_window_size,\n",
    "            sequence_stride=1,\n",
    "            shuffle=True,\n",
    "            batch_size=128,)\n",
    "\n",
    "        ds = ds.map(self.split_window)\n",
    "\n",
    "        return ds\n",
    "\n",
    "    @property\n",
    "    def train(self):\n",
    "        return self.make_dataset(self.train_df)\n",
    "\n",
    "    @property\n",
    "    def val(self):\n",
    "        return self.make_dataset(self.val_df)\n",
    "\n",
    "    @property\n",
    "    def test(self):\n",
    "        return self.make_dataset(self.test_df)\n",
    "\n",
    "    @property\n",
    "    def example(self):\n",
    "        # \"\"\"Get and cache an example batch of `inputs, labels` for plotting.\"\"\"\n",
    "        result = getattr(self, '_example', None)\n",
    "        if result is None:\n",
    "        # No example batch was found, so get one from the `.train` dataset\n",
    "            result = next(iter(self.train))\n",
    "        # And cache it for next time\n",
    "            self._example = result\n",
    "        return result "
   ]
  },
  {
   "cell_type": "code",
   "execution_count": 196,
   "metadata": {},
   "outputs": [],
   "source": [
    "def compile_and_fit(model,modelname,data:dataProcessing,window:WindowGenerator):\n",
    "    MAX_EPOCHS = 50\n",
    "\n",
    "    #check if path is available\n",
    "    path = f'models/{modelname}/{data.stockname}/tensorboard/logs/fit'\n",
    "    pathlib.Path(path).mkdir(parents=True,exist_ok=True)\n",
    "\n",
    "    filepath = f'models/{modelname}/{data.stockname}'\n",
    "    \n",
    "    model_checkpoint_callback= tf.keras.callbacks.ModelCheckpoint(\n",
    "        filepath, monitor='loss', verbose=0, save_best_only=True,\n",
    "        save_weights_only=False, mode='auto', save_freq='epoch',\n",
    "        options=None\n",
    "    )\n",
    "\n",
    "    log_dir =f'models/{modelname}/{data.stockname}/tensorboard/logs/fit/{datetime.datetime.now().strftime(\"%Y%m%d-%H%M%S\")}'\n",
    "    tensorboard_callback = tf.keras.callbacks.TensorBoard(log_dir=log_dir, histogram_freq=1)\n",
    "\n",
    "\n",
    "    model.compile(loss=tf.losses.MeanSquaredError(),\n",
    "                    optimizer=tf.optimizers.Adam(),\n",
    "                    metrics=[tf.metrics.MeanAbsoluteError(),tf.metrics.MeanAbsolutePercentageError()])\n",
    "\n",
    "    history = model.fit(window , epochs=MAX_EPOCHS,verbose=1,callbacks=[tensorboard_callback,model_checkpoint_callback])\n",
    "    \n",
    "    return history"
   ]
  },
  {
   "cell_type": "code",
   "execution_count": 197,
   "metadata": {},
   "outputs": [],
   "source": [
    "data = dataProcessing(df,input_width=60,prediction_days=1,label_columns=['Close'],stockname='sp100_with_Indicator')\n"
   ]
  },
  {
   "cell_type": "code",
   "execution_count": 198,
   "metadata": {},
   "outputs": [],
   "source": [
    "wg = WindowGenerator(  \n",
    "                        input_width=data.input_width,\n",
    "                        shift=data.prediction_days,\n",
    "                        label_width=1,\n",
    "                        train_df=data.train_dataset,\n",
    "                        val_df=None,\n",
    "                        test_df=data.test_dataset,\n",
    "                        label_columns=['Close']\n",
    "                    )\n"
   ]
  },
  {
   "cell_type": "code",
   "execution_count": 166,
   "metadata": {},
   "outputs": [],
   "source": [
    "iw , ow = data.make_windows(data.train_dataset)"
   ]
  },
  {
   "cell_type": "code",
   "execution_count": 199,
   "metadata": {},
   "outputs": [
    {
     "name": "stdout",
     "output_type": "stream",
     "text": [
      "Model: \"sequential_36\"\n",
      "_________________________________________________________________\n",
      "Layer (type)                 Output Shape              Param #   \n",
      "=================================================================\n",
      "lstm_61 (LSTM)               (None, 46)                17112     \n",
      "_________________________________________________________________\n",
      "dense_51 (Dense)             (None, 1000)              47000     \n",
      "_________________________________________________________________\n",
      "flatten_9 (Flatten)          (None, 1000)              0         \n",
      "_________________________________________________________________\n",
      "dense_52 (Dense)             (None, 1)                 1001      \n",
      "_________________________________________________________________\n",
      "reshape_33 (Reshape)         (None, 1, 1)              0         \n",
      "=================================================================\n",
      "Total params: 65,113\n",
      "Trainable params: 65,113\n",
      "Non-trainable params: 0\n",
      "_________________________________________________________________\n"
     ]
    }
   ],
   "source": [
    "fitures = data.num_features\n",
    "days= data.input_width\n",
    "\n",
    "test_model = Sequential()\n",
    "\n",
    "test_model.add(LSTM(units=fitures, input_shape = (days,fitures)))\n",
    "test_model.add(Dense(1000,activation=activations.elu))\n",
    "\n",
    "test_model.add(Flatten())\n",
    "test_model.add(Dense(units=1))\n",
    "test_model.add(Reshape([1,1]))\n",
    "test_model.summary()\n",
    "\n",
    "\n"
   ]
  },
  {
   "cell_type": "code",
   "execution_count": 182,
   "metadata": {},
   "outputs": [
    {
     "name": "stdout",
     "output_type": "stream",
     "text": [
      "Epoch 1/50\n",
      "60/60 [==============================] - 3s 22ms/step - loss: 0.0507 - mean_absolute_error: 0.1345 - mean_absolute_percentage_error: 137.1961\n"
     ]
    },
    {
     "name": "stderr",
     "output_type": "stream",
     "text": [
      "WARNING:absl:Found untraced functions such as lstm_cell_60_layer_call_and_return_conditional_losses, lstm_cell_60_layer_call_fn, lstm_cell_60_layer_call_fn, lstm_cell_60_layer_call_and_return_conditional_losses, lstm_cell_60_layer_call_and_return_conditional_losses while saving (showing 5 of 5). These functions will not be directly callable after loading.\n"
     ]
    },
    {
     "name": "stdout",
     "output_type": "stream",
     "text": [
      "INFO:tensorflow:Assets written to: models/test_model\\sp100_with_Indicator\\assets\n"
     ]
    },
    {
     "name": "stderr",
     "output_type": "stream",
     "text": [
      "INFO:tensorflow:Assets written to: models/test_model\\sp100_with_Indicator\\assets\n"
     ]
    },
    {
     "name": "stdout",
     "output_type": "stream",
     "text": [
      "Epoch 2/50\n",
      "60/60 [==============================] - 1s 14ms/step - loss: 0.0033 - mean_absolute_error: 0.0439 - mean_absolute_percentage_error: 48.5612\n"
     ]
    },
    {
     "name": "stderr",
     "output_type": "stream",
     "text": [
      "WARNING:absl:Found untraced functions such as lstm_cell_60_layer_call_and_return_conditional_losses, lstm_cell_60_layer_call_fn, lstm_cell_60_layer_call_fn, lstm_cell_60_layer_call_and_return_conditional_losses, lstm_cell_60_layer_call_and_return_conditional_losses while saving (showing 5 of 5). These functions will not be directly callable after loading.\n"
     ]
    },
    {
     "name": "stdout",
     "output_type": "stream",
     "text": [
      "INFO:tensorflow:Assets written to: models/test_model\\sp100_with_Indicator\\assets\n"
     ]
    },
    {
     "name": "stderr",
     "output_type": "stream",
     "text": [
      "INFO:tensorflow:Assets written to: models/test_model\\sp100_with_Indicator\\assets\n"
     ]
    },
    {
     "name": "stdout",
     "output_type": "stream",
     "text": [
      "Epoch 3/50\n",
      "60/60 [==============================] - 1s 11ms/step - loss: 0.0022 - mean_absolute_error: 0.0352 - mean_absolute_percentage_error: 41.4378\n"
     ]
    },
    {
     "name": "stderr",
     "output_type": "stream",
     "text": [
      "WARNING:absl:Found untraced functions such as lstm_cell_60_layer_call_and_return_conditional_losses, lstm_cell_60_layer_call_fn, lstm_cell_60_layer_call_fn, lstm_cell_60_layer_call_and_return_conditional_losses, lstm_cell_60_layer_call_and_return_conditional_losses while saving (showing 5 of 5). These functions will not be directly callable after loading.\n"
     ]
    },
    {
     "name": "stdout",
     "output_type": "stream",
     "text": [
      "INFO:tensorflow:Assets written to: models/test_model\\sp100_with_Indicator\\assets\n"
     ]
    },
    {
     "name": "stderr",
     "output_type": "stream",
     "text": [
      "INFO:tensorflow:Assets written to: models/test_model\\sp100_with_Indicator\\assets\n"
     ]
    },
    {
     "name": "stdout",
     "output_type": "stream",
     "text": [
      "Epoch 4/50\n",
      "60/60 [==============================] - 1s 15ms/step - loss: 0.0017 - mean_absolute_error: 0.0300 - mean_absolute_percentage_error: 25.8150\n"
     ]
    },
    {
     "name": "stderr",
     "output_type": "stream",
     "text": [
      "WARNING:absl:Found untraced functions such as lstm_cell_60_layer_call_and_return_conditional_losses, lstm_cell_60_layer_call_fn, lstm_cell_60_layer_call_fn, lstm_cell_60_layer_call_and_return_conditional_losses, lstm_cell_60_layer_call_and_return_conditional_losses while saving (showing 5 of 5). These functions will not be directly callable after loading.\n"
     ]
    },
    {
     "name": "stdout",
     "output_type": "stream",
     "text": [
      "INFO:tensorflow:Assets written to: models/test_model\\sp100_with_Indicator\\assets\n"
     ]
    },
    {
     "name": "stderr",
     "output_type": "stream",
     "text": [
      "INFO:tensorflow:Assets written to: models/test_model\\sp100_with_Indicator\\assets\n"
     ]
    },
    {
     "name": "stdout",
     "output_type": "stream",
     "text": [
      "Epoch 5/50\n",
      "60/60 [==============================] - 1s 12ms/step - loss: 0.0014 - mean_absolute_error: 0.0276 - mean_absolute_percentage_error: 24.4834\n"
     ]
    },
    {
     "name": "stderr",
     "output_type": "stream",
     "text": [
      "WARNING:absl:Found untraced functions such as lstm_cell_60_layer_call_and_return_conditional_losses, lstm_cell_60_layer_call_fn, lstm_cell_60_layer_call_fn, lstm_cell_60_layer_call_and_return_conditional_losses, lstm_cell_60_layer_call_and_return_conditional_losses while saving (showing 5 of 5). These functions will not be directly callable after loading.\n"
     ]
    },
    {
     "name": "stdout",
     "output_type": "stream",
     "text": [
      "INFO:tensorflow:Assets written to: models/test_model\\sp100_with_Indicator\\assets\n"
     ]
    },
    {
     "name": "stderr",
     "output_type": "stream",
     "text": [
      "INFO:tensorflow:Assets written to: models/test_model\\sp100_with_Indicator\\assets\n"
     ]
    },
    {
     "name": "stdout",
     "output_type": "stream",
     "text": [
      "Epoch 6/50\n",
      "60/60 [==============================] - 1s 11ms/step - loss: 0.0013 - mean_absolute_error: 0.0260 - mean_absolute_percentage_error: 25.5775\n"
     ]
    },
    {
     "name": "stderr",
     "output_type": "stream",
     "text": [
      "WARNING:absl:Found untraced functions such as lstm_cell_60_layer_call_and_return_conditional_losses, lstm_cell_60_layer_call_fn, lstm_cell_60_layer_call_fn, lstm_cell_60_layer_call_and_return_conditional_losses, lstm_cell_60_layer_call_and_return_conditional_losses while saving (showing 5 of 5). These functions will not be directly callable after loading.\n"
     ]
    },
    {
     "name": "stdout",
     "output_type": "stream",
     "text": [
      "INFO:tensorflow:Assets written to: models/test_model\\sp100_with_Indicator\\assets\n"
     ]
    },
    {
     "name": "stderr",
     "output_type": "stream",
     "text": [
      "INFO:tensorflow:Assets written to: models/test_model\\sp100_with_Indicator\\assets\n"
     ]
    },
    {
     "name": "stdout",
     "output_type": "stream",
     "text": [
      "Epoch 7/50\n",
      "60/60 [==============================] - 1s 11ms/step - loss: 0.0013 - mean_absolute_error: 0.0258 - mean_absolute_percentage_error: 22.7436\n"
     ]
    },
    {
     "name": "stderr",
     "output_type": "stream",
     "text": [
      "WARNING:absl:Found untraced functions such as lstm_cell_60_layer_call_and_return_conditional_losses, lstm_cell_60_layer_call_fn, lstm_cell_60_layer_call_fn, lstm_cell_60_layer_call_and_return_conditional_losses, lstm_cell_60_layer_call_and_return_conditional_losses while saving (showing 5 of 5). These functions will not be directly callable after loading.\n"
     ]
    },
    {
     "name": "stdout",
     "output_type": "stream",
     "text": [
      "INFO:tensorflow:Assets written to: models/test_model\\sp100_with_Indicator\\assets\n"
     ]
    },
    {
     "name": "stderr",
     "output_type": "stream",
     "text": [
      "INFO:tensorflow:Assets written to: models/test_model\\sp100_with_Indicator\\assets\n"
     ]
    },
    {
     "name": "stdout",
     "output_type": "stream",
     "text": [
      "Epoch 8/50\n",
      "60/60 [==============================] - 1s 12ms/step - loss: 0.0014 - mean_absolute_error: 0.0272 - mean_absolute_percentage_error: 34.5717\n",
      "Epoch 9/50\n",
      "60/60 [==============================] - 1s 11ms/step - loss: 0.0011 - mean_absolute_error: 0.0234 - mean_absolute_percentage_error: 33.1103\n"
     ]
    },
    {
     "name": "stderr",
     "output_type": "stream",
     "text": [
      "WARNING:absl:Found untraced functions such as lstm_cell_60_layer_call_and_return_conditional_losses, lstm_cell_60_layer_call_fn, lstm_cell_60_layer_call_fn, lstm_cell_60_layer_call_and_return_conditional_losses, lstm_cell_60_layer_call_and_return_conditional_losses while saving (showing 5 of 5). These functions will not be directly callable after loading.\n"
     ]
    },
    {
     "name": "stdout",
     "output_type": "stream",
     "text": [
      "INFO:tensorflow:Assets written to: models/test_model\\sp100_with_Indicator\\assets\n"
     ]
    },
    {
     "name": "stderr",
     "output_type": "stream",
     "text": [
      "INFO:tensorflow:Assets written to: models/test_model\\sp100_with_Indicator\\assets\n"
     ]
    },
    {
     "name": "stdout",
     "output_type": "stream",
     "text": [
      "Epoch 10/50\n",
      "60/60 [==============================] - 1s 12ms/step - loss: 9.6029e-04 - mean_absolute_error: 0.0222 - mean_absolute_percentage_error: 20.4221\n"
     ]
    },
    {
     "name": "stderr",
     "output_type": "stream",
     "text": [
      "WARNING:absl:Found untraced functions such as lstm_cell_60_layer_call_and_return_conditional_losses, lstm_cell_60_layer_call_fn, lstm_cell_60_layer_call_fn, lstm_cell_60_layer_call_and_return_conditional_losses, lstm_cell_60_layer_call_and_return_conditional_losses while saving (showing 5 of 5). These functions will not be directly callable after loading.\n"
     ]
    },
    {
     "name": "stdout",
     "output_type": "stream",
     "text": [
      "INFO:tensorflow:Assets written to: models/test_model\\sp100_with_Indicator\\assets\n"
     ]
    },
    {
     "name": "stderr",
     "output_type": "stream",
     "text": [
      "INFO:tensorflow:Assets written to: models/test_model\\sp100_with_Indicator\\assets\n"
     ]
    },
    {
     "name": "stdout",
     "output_type": "stream",
     "text": [
      "Epoch 11/50\n",
      "60/60 [==============================] - 1s 11ms/step - loss: 9.5696e-04 - mean_absolute_error: 0.0224 - mean_absolute_percentage_error: 24.3426\n"
     ]
    },
    {
     "name": "stderr",
     "output_type": "stream",
     "text": [
      "WARNING:absl:Found untraced functions such as lstm_cell_60_layer_call_and_return_conditional_losses, lstm_cell_60_layer_call_fn, lstm_cell_60_layer_call_fn, lstm_cell_60_layer_call_and_return_conditional_losses, lstm_cell_60_layer_call_and_return_conditional_losses while saving (showing 5 of 5). These functions will not be directly callable after loading.\n"
     ]
    },
    {
     "name": "stdout",
     "output_type": "stream",
     "text": [
      "INFO:tensorflow:Assets written to: models/test_model\\sp100_with_Indicator\\assets\n"
     ]
    },
    {
     "name": "stderr",
     "output_type": "stream",
     "text": [
      "INFO:tensorflow:Assets written to: models/test_model\\sp100_with_Indicator\\assets\n"
     ]
    },
    {
     "name": "stdout",
     "output_type": "stream",
     "text": [
      "Epoch 12/50\n",
      "60/60 [==============================] - 1s 11ms/step - loss: 9.9194e-04 - mean_absolute_error: 0.0222 - mean_absolute_percentage_error: 21.6063\n",
      "Epoch 13/50\n",
      "60/60 [==============================] - 1s 11ms/step - loss: 8.9906e-04 - mean_absolute_error: 0.0213 - mean_absolute_percentage_error: 22.6174\n"
     ]
    },
    {
     "name": "stderr",
     "output_type": "stream",
     "text": [
      "WARNING:absl:Found untraced functions such as lstm_cell_60_layer_call_and_return_conditional_losses, lstm_cell_60_layer_call_fn, lstm_cell_60_layer_call_fn, lstm_cell_60_layer_call_and_return_conditional_losses, lstm_cell_60_layer_call_and_return_conditional_losses while saving (showing 5 of 5). These functions will not be directly callable after loading.\n"
     ]
    },
    {
     "name": "stdout",
     "output_type": "stream",
     "text": [
      "INFO:tensorflow:Assets written to: models/test_model\\sp100_with_Indicator\\assets\n"
     ]
    },
    {
     "name": "stderr",
     "output_type": "stream",
     "text": [
      "INFO:tensorflow:Assets written to: models/test_model\\sp100_with_Indicator\\assets\n"
     ]
    },
    {
     "name": "stdout",
     "output_type": "stream",
     "text": [
      "Epoch 14/50\n",
      "60/60 [==============================] - 1s 11ms/step - loss: 0.0011 - mean_absolute_error: 0.0238 - mean_absolute_percentage_error: 38.3005\n",
      "Epoch 15/50\n",
      "60/60 [==============================] - 1s 10ms/step - loss: 0.0010 - mean_absolute_error: 0.0226 - mean_absolute_percentage_error: 20.3668\n",
      "Epoch 16/50\n",
      "60/60 [==============================] - 1s 11ms/step - loss: 0.0012 - mean_absolute_error: 0.0248 - mean_absolute_percentage_error: 34.3647\n",
      "Epoch 17/50\n",
      "60/60 [==============================] - 1s 11ms/step - loss: 0.0011 - mean_absolute_error: 0.0240 - mean_absolute_percentage_error: 18.3661\n",
      "Epoch 18/50\n",
      "60/60 [==============================] - 1s 11ms/step - loss: 0.0011 - mean_absolute_error: 0.0234 - mean_absolute_percentage_error: 36.5432\n",
      "Epoch 19/50\n",
      "60/60 [==============================] - 1s 11ms/step - loss: 9.8057e-04 - mean_absolute_error: 0.0224 - mean_absolute_percentage_error: 39.9622\n",
      "Epoch 20/50\n",
      "60/60 [==============================] - 1s 11ms/step - loss: 0.0011 - mean_absolute_error: 0.0242 - mean_absolute_percentage_error: 28.4340\n",
      "Epoch 21/50\n",
      "60/60 [==============================] - 1s 11ms/step - loss: 0.0010 - mean_absolute_error: 0.0228 - mean_absolute_percentage_error: 32.8968\n",
      "Epoch 22/50\n",
      "60/60 [==============================] - 1s 11ms/step - loss: 0.0014 - mean_absolute_error: 0.0269 - mean_absolute_percentage_error: 25.7190\n",
      "Epoch 23/50\n",
      "60/60 [==============================] - 1s 12ms/step - loss: 8.8569e-04 - mean_absolute_error: 0.0206 - mean_absolute_percentage_error: 15.7047\n"
     ]
    },
    {
     "name": "stderr",
     "output_type": "stream",
     "text": [
      "WARNING:absl:Found untraced functions such as lstm_cell_60_layer_call_and_return_conditional_losses, lstm_cell_60_layer_call_fn, lstm_cell_60_layer_call_fn, lstm_cell_60_layer_call_and_return_conditional_losses, lstm_cell_60_layer_call_and_return_conditional_losses while saving (showing 5 of 5). These functions will not be directly callable after loading.\n"
     ]
    },
    {
     "name": "stdout",
     "output_type": "stream",
     "text": [
      "INFO:tensorflow:Assets written to: models/test_model\\sp100_with_Indicator\\assets\n"
     ]
    },
    {
     "name": "stderr",
     "output_type": "stream",
     "text": [
      "INFO:tensorflow:Assets written to: models/test_model\\sp100_with_Indicator\\assets\n"
     ]
    },
    {
     "name": "stdout",
     "output_type": "stream",
     "text": [
      "Epoch 24/50\n",
      "60/60 [==============================] - 1s 12ms/step - loss: 8.3242e-04 - mean_absolute_error: 0.0202 - mean_absolute_percentage_error: 24.9970\n"
     ]
    },
    {
     "name": "stderr",
     "output_type": "stream",
     "text": [
      "WARNING:absl:Found untraced functions such as lstm_cell_60_layer_call_and_return_conditional_losses, lstm_cell_60_layer_call_fn, lstm_cell_60_layer_call_fn, lstm_cell_60_layer_call_and_return_conditional_losses, lstm_cell_60_layer_call_and_return_conditional_losses while saving (showing 5 of 5). These functions will not be directly callable after loading.\n"
     ]
    },
    {
     "name": "stdout",
     "output_type": "stream",
     "text": [
      "INFO:tensorflow:Assets written to: models/test_model\\sp100_with_Indicator\\assets\n"
     ]
    },
    {
     "name": "stderr",
     "output_type": "stream",
     "text": [
      "INFO:tensorflow:Assets written to: models/test_model\\sp100_with_Indicator\\assets\n"
     ]
    },
    {
     "name": "stdout",
     "output_type": "stream",
     "text": [
      "Epoch 25/50\n",
      "60/60 [==============================] - 1s 11ms/step - loss: 9.8530e-04 - mean_absolute_error: 0.0226 - mean_absolute_percentage_error: 34.5731\n",
      "Epoch 26/50\n",
      "60/60 [==============================] - 1s 11ms/step - loss: 8.6973e-04 - mean_absolute_error: 0.0210 - mean_absolute_percentage_error: 22.4072\n",
      "Epoch 27/50\n",
      "60/60 [==============================] - 1s 11ms/step - loss: 8.6118e-04 - mean_absolute_error: 0.0208 - mean_absolute_percentage_error: 22.8065\n",
      "Epoch 28/50\n",
      "60/60 [==============================] - 1s 12ms/step - loss: 8.3960e-04 - mean_absolute_error: 0.0203 - mean_absolute_percentage_error: 25.2891\n",
      "Epoch 29/50\n",
      "60/60 [==============================] - 1s 11ms/step - loss: 8.9621e-04 - mean_absolute_error: 0.0213 - mean_absolute_percentage_error: 28.6779\n",
      "Epoch 30/50\n",
      "60/60 [==============================] - 1s 11ms/step - loss: 8.2739e-04 - mean_absolute_error: 0.0204 - mean_absolute_percentage_error: 29.7348\n"
     ]
    },
    {
     "name": "stderr",
     "output_type": "stream",
     "text": [
      "WARNING:absl:Found untraced functions such as lstm_cell_60_layer_call_and_return_conditional_losses, lstm_cell_60_layer_call_fn, lstm_cell_60_layer_call_fn, lstm_cell_60_layer_call_and_return_conditional_losses, lstm_cell_60_layer_call_and_return_conditional_losses while saving (showing 5 of 5). These functions will not be directly callable after loading.\n"
     ]
    },
    {
     "name": "stdout",
     "output_type": "stream",
     "text": [
      "INFO:tensorflow:Assets written to: models/test_model\\sp100_with_Indicator\\assets\n"
     ]
    },
    {
     "name": "stderr",
     "output_type": "stream",
     "text": [
      "INFO:tensorflow:Assets written to: models/test_model\\sp100_with_Indicator\\assets\n"
     ]
    },
    {
     "name": "stdout",
     "output_type": "stream",
     "text": [
      "Epoch 31/50\n",
      "60/60 [==============================] - 1s 12ms/step - loss: 9.0380e-04 - mean_absolute_error: 0.0214 - mean_absolute_percentage_error: 27.1184\n",
      "Epoch 32/50\n",
      "60/60 [==============================] - 1s 12ms/step - loss: 7.7674e-04 - mean_absolute_error: 0.0194 - mean_absolute_percentage_error: 35.1700\n"
     ]
    },
    {
     "name": "stderr",
     "output_type": "stream",
     "text": [
      "WARNING:absl:Found untraced functions such as lstm_cell_60_layer_call_and_return_conditional_losses, lstm_cell_60_layer_call_fn, lstm_cell_60_layer_call_fn, lstm_cell_60_layer_call_and_return_conditional_losses, lstm_cell_60_layer_call_and_return_conditional_losses while saving (showing 5 of 5). These functions will not be directly callable after loading.\n"
     ]
    },
    {
     "name": "stdout",
     "output_type": "stream",
     "text": [
      "INFO:tensorflow:Assets written to: models/test_model\\sp100_with_Indicator\\assets\n"
     ]
    },
    {
     "name": "stderr",
     "output_type": "stream",
     "text": [
      "INFO:tensorflow:Assets written to: models/test_model\\sp100_with_Indicator\\assets\n"
     ]
    },
    {
     "name": "stdout",
     "output_type": "stream",
     "text": [
      "Epoch 33/50\n",
      "60/60 [==============================] - 1s 12ms/step - loss: 9.3920e-04 - mean_absolute_error: 0.0213 - mean_absolute_percentage_error: 36.6229\n",
      "Epoch 34/50\n",
      "60/60 [==============================] - 1s 11ms/step - loss: 8.9857e-04 - mean_absolute_error: 0.0211 - mean_absolute_percentage_error: 24.0480\n",
      "Epoch 35/50\n",
      "60/60 [==============================] - 1s 11ms/step - loss: 8.2391e-04 - mean_absolute_error: 0.0201 - mean_absolute_percentage_error: 22.7944\n",
      "Epoch 36/50\n",
      "60/60 [==============================] - 1s 11ms/step - loss: 8.1585e-04 - mean_absolute_error: 0.0201 - mean_absolute_percentage_error: 19.6428\n",
      "Epoch 37/50\n",
      "60/60 [==============================] - 1s 11ms/step - loss: 7.5382e-04 - mean_absolute_error: 0.0193 - mean_absolute_percentage_error: 31.5587\n"
     ]
    },
    {
     "name": "stderr",
     "output_type": "stream",
     "text": [
      "WARNING:absl:Found untraced functions such as lstm_cell_60_layer_call_and_return_conditional_losses, lstm_cell_60_layer_call_fn, lstm_cell_60_layer_call_fn, lstm_cell_60_layer_call_and_return_conditional_losses, lstm_cell_60_layer_call_and_return_conditional_losses while saving (showing 5 of 5). These functions will not be directly callable after loading.\n"
     ]
    },
    {
     "name": "stdout",
     "output_type": "stream",
     "text": [
      "INFO:tensorflow:Assets written to: models/test_model\\sp100_with_Indicator\\assets\n"
     ]
    },
    {
     "name": "stderr",
     "output_type": "stream",
     "text": [
      "INFO:tensorflow:Assets written to: models/test_model\\sp100_with_Indicator\\assets\n"
     ]
    },
    {
     "name": "stdout",
     "output_type": "stream",
     "text": [
      "Epoch 38/50\n",
      "60/60 [==============================] - 1s 12ms/step - loss: 8.8749e-04 - mean_absolute_error: 0.0216 - mean_absolute_percentage_error: 25.4445\n",
      "Epoch 39/50\n",
      "60/60 [==============================] - 1s 11ms/step - loss: 7.5058e-04 - mean_absolute_error: 0.0192 - mean_absolute_percentage_error: 27.0568\n"
     ]
    },
    {
     "name": "stderr",
     "output_type": "stream",
     "text": [
      "WARNING:absl:Found untraced functions such as lstm_cell_60_layer_call_and_return_conditional_losses, lstm_cell_60_layer_call_fn, lstm_cell_60_layer_call_fn, lstm_cell_60_layer_call_and_return_conditional_losses, lstm_cell_60_layer_call_and_return_conditional_losses while saving (showing 5 of 5). These functions will not be directly callable after loading.\n"
     ]
    },
    {
     "name": "stdout",
     "output_type": "stream",
     "text": [
      "INFO:tensorflow:Assets written to: models/test_model\\sp100_with_Indicator\\assets\n"
     ]
    },
    {
     "name": "stderr",
     "output_type": "stream",
     "text": [
      "INFO:tensorflow:Assets written to: models/test_model\\sp100_with_Indicator\\assets\n"
     ]
    },
    {
     "name": "stdout",
     "output_type": "stream",
     "text": [
      "Epoch 40/50\n",
      "60/60 [==============================] - 1s 12ms/step - loss: 8.6735e-04 - mean_absolute_error: 0.0210 - mean_absolute_percentage_error: 24.8014\n",
      "Epoch 41/50\n",
      "60/60 [==============================] - 1s 12ms/step - loss: 7.8605e-04 - mean_absolute_error: 0.0199 - mean_absolute_percentage_error: 22.9282\n",
      "Epoch 42/50\n",
      "60/60 [==============================] - 1s 11ms/step - loss: 9.0099e-04 - mean_absolute_error: 0.0212 - mean_absolute_percentage_error: 42.5177\n",
      "Epoch 43/50\n",
      "60/60 [==============================] - 1s 11ms/step - loss: 8.4305e-04 - mean_absolute_error: 0.0210 - mean_absolute_percentage_error: 29.2900\n",
      "Epoch 44/50\n",
      "60/60 [==============================] - 1s 10ms/step - loss: 8.0332e-04 - mean_absolute_error: 0.0202 - mean_absolute_percentage_error: 22.9145\n",
      "Epoch 45/50\n",
      "60/60 [==============================] - 1s 11ms/step - loss: 9.5952e-04 - mean_absolute_error: 0.0218 - mean_absolute_percentage_error: 18.9526\n",
      "Epoch 46/50\n",
      "60/60 [==============================] - 1s 11ms/step - loss: 8.3604e-04 - mean_absolute_error: 0.0203 - mean_absolute_percentage_error: 21.1469\n",
      "Epoch 47/50\n",
      "60/60 [==============================] - 1s 10ms/step - loss: 7.5040e-04 - mean_absolute_error: 0.0194 - mean_absolute_percentage_error: 25.9622\n"
     ]
    },
    {
     "name": "stderr",
     "output_type": "stream",
     "text": [
      "WARNING:absl:Found untraced functions such as lstm_cell_60_layer_call_and_return_conditional_losses, lstm_cell_60_layer_call_fn, lstm_cell_60_layer_call_fn, lstm_cell_60_layer_call_and_return_conditional_losses, lstm_cell_60_layer_call_and_return_conditional_losses while saving (showing 5 of 5). These functions will not be directly callable after loading.\n"
     ]
    },
    {
     "name": "stdout",
     "output_type": "stream",
     "text": [
      "INFO:tensorflow:Assets written to: models/test_model\\sp100_with_Indicator\\assets\n"
     ]
    },
    {
     "name": "stderr",
     "output_type": "stream",
     "text": [
      "INFO:tensorflow:Assets written to: models/test_model\\sp100_with_Indicator\\assets\n"
     ]
    },
    {
     "name": "stdout",
     "output_type": "stream",
     "text": [
      "Epoch 48/50\n",
      "60/60 [==============================] - 1s 11ms/step - loss: 7.7994e-04 - mean_absolute_error: 0.0199 - mean_absolute_percentage_error: 16.5075\n",
      "Epoch 49/50\n",
      "60/60 [==============================] - 1s 11ms/step - loss: 8.2399e-04 - mean_absolute_error: 0.0208 - mean_absolute_percentage_error: 25.2667\n",
      "Epoch 50/50\n",
      "60/60 [==============================] - 1s 11ms/step - loss: 7.5588e-04 - mean_absolute_error: 0.0191 - mean_absolute_percentage_error: 24.7749\n"
     ]
    }
   ],
   "source": [
    "history= compile_and_fit(\n",
    "                            model=test_model,\n",
    "                            modelname='test_model',\n",
    "                            data=data,\n",
    "                            window = wg.train\n",
    "                        )\n"
   ]
  },
  {
   "cell_type": "code",
   "execution_count": 183,
   "metadata": {},
   "outputs": [
    {
     "data": {
      "text/plain": [
       "[<matplotlib.lines.Line2D at 0x20c159255e0>]"
      ]
     },
     "execution_count": 183,
     "metadata": {},
     "output_type": "execute_result"
    },
    {
     "data": {
      "image/png": "[encoded data removed]",
      "text/plain": [
       "<Figure size 864x576 with 1 Axes>"
      ]
     },
     "metadata": {
      "needs_background": "light"
     },
     "output_type": "display_data"
    }
   ],
   "source": [
    "\n",
    "input_T ,real = data.make_windows(data.test_dataset)\n",
    "predictions = test_model.predict(input_T)\n",
    "\n",
    "list_a = [i for i in real[:,0,0]]\n",
    "\n",
    "list_real = [i*data.train_std['Close']+data.train_mean['Close'] for i in list_a]\n",
    "\n",
    "list_a = [i for i in predictions[:,0,0]]\n",
    "\n",
    "list_predict = [i*data.train_std['Close']+data.train_mean['Close'] for i in list_a]\n",
    "\n",
    "plt.plot(list_real, color=\"black\",label=f\"real\", marker='o', ms=1)\n",
    "plt.plot(list_predict, color=\"green\",label=f\"predicted\", marker='o', ms=1)"
   ]
  }
 ],
 "metadata": {
  "interpreter": {
   "hash": "2b0900fbe6dcf68ba8657d6a73781eea6c8e04d861aa42c88ba789e96c4944de"
  },
  "kernelspec": {
   "display_name": "Python 3.8.12 64-bit ('tensor': conda)",
   "language": "python",
   "name": "python3"
  },
  "language_info": {
   "codemirror_mode": {
    "name": "ipython",
    "version": 3
   },
   "file_extension": ".py",
   "mimetype": "text/x-python",
   "name": "python",
   "nbconvert_exporter": "python",
   "pygments_lexer": "ipython3",
   "version": "3.8.12"
  },
  "orig_nbformat": 4
 },
 "nbformat": 4,
 "nbformat_minor": 2
}
